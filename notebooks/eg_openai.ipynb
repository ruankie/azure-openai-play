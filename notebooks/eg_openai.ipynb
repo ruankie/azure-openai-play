{
 "cells": [
  {
   "attachments": {},
   "cell_type": "markdown",
   "metadata": {},
   "source": [
    "# OpenAI Example\n",
    "This is an example using the OpenAI API through the `openai` package"
   ]
  },
  {
   "cell_type": "code",
   "execution_count": 1,
   "metadata": {},
   "outputs": [],
   "source": [
    "import os\n",
    "import openai\n",
    "from dotenv import load_dotenv"
   ]
  },
  {
   "cell_type": "code",
   "execution_count": 2,
   "metadata": {},
   "outputs": [
    {
     "data": {
      "text/plain": [
       "True"
      ]
     },
     "execution_count": 2,
     "metadata": {},
     "output_type": "execute_result"
    }
   ],
   "source": [
    "# load env vars from .env (see .env.example)\n",
    "load_dotenv()"
   ]
  },
  {
   "cell_type": "code",
   "execution_count": 3,
   "metadata": {},
   "outputs": [],
   "source": [
    "openai.api_key = os.getenv(\"OPENAI_API_KEY\")\n",
    "openai.api_base = os.getenv(\"OPENAI_API_BASE\")\n",
    "openai.api_type = os.getenv(\"OPENAI_API_TYPE\")\n",
    "openai.api_version = os.getenv(\"OPENAI_API_VERSION\")\n",
    "\n",
    "deployment_name = os.getenv(\"DEPLOYMENT_NAME\")"
   ]
  },
  {
   "cell_type": "code",
   "execution_count": 4,
   "metadata": {},
   "outputs": [],
   "source": [
    "# Fill in chat history, including system prompt\n",
    "# Use roles: system, user, assistant\n",
    "message_text = [\n",
    "  {\"role\":\"system\", \"content\":\"You are an AI assistant that helps people find information.\"},\n",
    "  {\"role\":\"user\", \"content\":\"What is the tallest building in the world?\"}\n",
    "]\n",
    "\n",
    "completion = openai.ChatCompletion.create(\n",
    "  engine=deployment_name,\n",
    "  messages=message_text,\n",
    "  temperature=0.7,\n",
    "  max_tokens=800,\n",
    "  top_p=0.95,\n",
    "  frequency_penalty=0,\n",
    "  presence_penalty=0,\n",
    "  stop=None\n",
    ")"
   ]
  },
  {
   "cell_type": "code",
   "execution_count": 5,
   "metadata": {},
   "outputs": [
    {
     "name": "stdout",
     "output_type": "stream",
     "text": [
      "assistant:\n",
      "The tallest building in the world is the Burj Khalifa in Dubai, United Arab Emirates. It stands at a height of 828 meters (2,722 feet) and was completed in 2010.\n"
     ]
    }
   ],
   "source": [
    "# Show completion\n",
    "role = completion[\"choices\"][0][\"message\"][\"role\"]\n",
    "message = completion[\"choices\"][0][\"message\"][\"content\"]\n",
    "\n",
    "print(f\"{role}:\")\n",
    "print(f\"{message}\")"
   ]
  }
 ],
 "metadata": {
  "kernelspec": {
   "display_name": "src-LzbLtsRC-py3.11",
   "language": "python",
   "name": "python3"
  },
  "language_info": {
   "codemirror_mode": {
    "name": "ipython",
    "version": 3
   },
   "file_extension": ".py",
   "mimetype": "text/x-python",
   "name": "python",
   "nbconvert_exporter": "python",
   "pygments_lexer": "ipython3",
   "version": "3.11.2"
  },
  "orig_nbformat": 4
 },
 "nbformat": 4,
 "nbformat_minor": 2
}
